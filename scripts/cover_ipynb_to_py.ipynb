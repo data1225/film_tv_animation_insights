{
 "cells": [
  {
   "cell_type": "code",
   "execution_count": 1,
   "id": "4b6d4f40-22da-41e5-91bf-46136a40c831",
   "metadata": {},
   "outputs": [
    {
     "name": "stdout",
     "output_type": "stream",
     "text": [
      "Converting: ../application\\youtube_topics_fetch.ipynb -> ../application\\youtube_topics_fetch.py\n",
      "Converting: ../application\\youtube_video_comments.ipynb -> ../application\\youtube_video_comments.py\n",
      "Converting: ../application\\.ipynb_checkpoints\\youtube_topics_fetch-checkpoint.ipynb -> ../application\\.ipynb_checkpoints\\youtube_topics_fetch-checkpoint.py\n",
      "Converting: ../application\\.ipynb_checkpoints\\youtube_topics_fetch-Copy1-checkpoint.ipynb -> ../application\\.ipynb_checkpoints\\youtube_topics_fetch-Copy1-checkpoint.py\n",
      "Converting: ../application\\.ipynb_checkpoints\\youtube_video_comments-checkpoint.ipynb -> ../application\\.ipynb_checkpoints\\youtube_video_comments-checkpoint.py\n",
      "✅ All .ipynb files converted.\n"
     ]
    }
   ],
   "source": [
    "import os\n",
    "import nbformat\n",
    "from nbconvert import PythonExporter\n",
    "\n",
    "def convert_ipynb_to_py(folder_path):\n",
    "    for root, dirs, files in os.walk(folder_path):\n",
    "        for file in files:\n",
    "            if file.endswith(\".ipynb\") and not file.startswith(\".\"):\n",
    "                ipynb_path = os.path.join(root, file)\n",
    "                py_path = os.path.splitext(ipynb_path)[0] + \".py\"\n",
    "\n",
    "                print(f\"Converting: {ipynb_path} -> {py_path}\")\n",
    "\n",
    "                with open(ipynb_path, \"r\", encoding=\"utf-8\") as f:\n",
    "                    notebook_node = nbformat.read(f, as_version=4)\n",
    "\n",
    "                exporter = PythonExporter()\n",
    "                body, _ = exporter.from_notebook_node(notebook_node)\n",
    "\n",
    "                with open(py_path, \"w\", encoding=\"utf-8\") as f:\n",
    "                    f.write(body)\n",
    "\n",
    "    print(\"✅ All .ipynb files converted.\")\n",
    "\n",
    "if __name__ == \"__main__\":\n",
    "    # change to your folder's name\n",
    "    convert_ipynb_to_py(\"../application\")"
   ]
  },
  {
   "cell_type": "code",
   "execution_count": null,
   "id": "8a080bc3-e55e-4e1f-a616-6a90f7e82302",
   "metadata": {},
   "outputs": [],
   "source": []
  }
 ],
 "metadata": {
  "kernelspec": {
   "display_name": "Python 3 (ipykernel)",
   "language": "python",
   "name": "python3"
  },
  "language_info": {
   "codemirror_mode": {
    "name": "ipython",
    "version": 3
   },
   "file_extension": ".py",
   "mimetype": "text/x-python",
   "name": "python",
   "nbconvert_exporter": "python",
   "pygments_lexer": "ipython3",
   "version": "3.12.3"
  }
 },
 "nbformat": 4,
 "nbformat_minor": 5
}
